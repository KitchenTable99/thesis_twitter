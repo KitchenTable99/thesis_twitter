{
 "cells": [
  {
   "cell_type": "code",
   "execution_count": 6,
   "id": "1be8a6ce",
   "metadata": {},
   "outputs": [],
   "source": [
    "import pandas as pd\n",
    "TEST_CSV = './data/138203134_likes.csv'"
   ]
  },
  {
   "cell_type": "code",
   "execution_count": 7,
   "id": "378f26d0",
   "metadata": {},
   "outputs": [
    {
     "name": "stderr",
     "output_type": "stream",
     "text": [
      "<ipython-input-7-bb9426deb320>:1: DtypeWarning: Columns (23,24,25,27,35,37,38,39,62,63,64) have mixed types. Specify dtype option on import or set low_memory=False.\n",
      "  df = pd.read_csv(TEST_CSV)\n"
     ]
    }
   ],
   "source": [
    "df = pd.read_csv(TEST_CSV)"
   ]
  },
  {
   "cell_type": "code",
   "execution_count": 8,
   "id": "9fecdb3f",
   "metadata": {},
   "outputs": [
    {
     "name": "stdout",
     "output_type": "stream",
     "text": [
      "<class 'pandas.core.frame.DataFrame'>\n",
      "RangeIndex: 21120 entries, 0 to 21119\n",
      "Data columns (total 79 columns):\n",
      " #   Column                                 Non-Null Count  Dtype  \n",
      "---  ------                                 --------------  -----  \n",
      " 0   id                                     21120 non-null  int64  \n",
      " 1   conversation_id                        21120 non-null  int64  \n",
      " 2   referenced_tweets.replied_to.id        1792 non-null   float64\n",
      " 3   referenced_tweets.retweeted.id         16 non-null     float64\n",
      " 4   referenced_tweets.quoted.id            4253 non-null   float64\n",
      " 5   edit_history_tweet_ids                 21120 non-null  object \n",
      " 6   edit_controls.edits_remaining          21120 non-null  int64  \n",
      " 7   edit_controls.editable_until           21120 non-null  object \n",
      " 8   edit_controls.is_edit_eligible         21120 non-null  bool   \n",
      " 9   author_id                              21120 non-null  int64  \n",
      " 10  in_reply_to_user_id                    1939 non-null   float64\n",
      " 11  retweeted_user_id                      16 non-null     float64\n",
      " 12  quoted_user_id                         4253 non-null   float64\n",
      " 13  created_at                             21120 non-null  object \n",
      " 14  text                                   21120 non-null  object \n",
      " 15  lang                                   21120 non-null  object \n",
      " 16  source                                 21120 non-null  object \n",
      " 17  public_metrics.like_count              21120 non-null  int64  \n",
      " 18  public_metrics.quote_count             21120 non-null  int64  \n",
      " 19  public_metrics.reply_count             21120 non-null  int64  \n",
      " 20  public_metrics.retweet_count           21120 non-null  int64  \n",
      " 21  reply_settings                         21120 non-null  object \n",
      " 22  possibly_sensitive                     21120 non-null  bool   \n",
      " 23  withheld.scope                         2 non-null      object \n",
      " 24  withheld.copyright                     5 non-null      object \n",
      " 25  withheld.country_codes                 5 non-null      object \n",
      " 26  entities.annotations                   13989 non-null  object \n",
      " 27  entities.cashtags                      8 non-null      object \n",
      " 28  entities.hashtags                      2925 non-null   object \n",
      " 29  entities.mentions                      10268 non-null  object \n",
      " 30  entities.urls                          15801 non-null  object \n",
      " 31  context_annotations                    17172 non-null  object \n",
      " 32  attachments.media                      6910 non-null   object \n",
      " 33  attachments.media_keys                 6910 non-null   object \n",
      " 34  attachments.poll.duration_minutes      1 non-null      float64\n",
      " 35  attachments.poll.end_datetime          1 non-null      object \n",
      " 36  attachments.poll.id                    1 non-null      float64\n",
      " 37  attachments.poll.options               1 non-null      object \n",
      " 38  attachments.poll.voting_status         1 non-null      object \n",
      " 39  attachments.poll_ids                   1 non-null      object \n",
      " 40  author.id                              21120 non-null  int64  \n",
      " 41  author.created_at                      21120 non-null  object \n",
      " 42  author.username                        21120 non-null  object \n",
      " 43  author.name                            21120 non-null  object \n",
      " 44  author.description                     20892 non-null  object \n",
      " 45  author.entities.description.cashtags   0 non-null      float64\n",
      " 46  author.entities.description.hashtags   3326 non-null   object \n",
      " 47  author.entities.description.mentions   11354 non-null  object \n",
      " 48  author.entities.description.urls       3724 non-null   object \n",
      " 49  author.entities.url.urls               18168 non-null  object \n",
      " 50  author.location                        17947 non-null  object \n",
      " 51  author.pinned_tweet_id                 14161 non-null  float64\n",
      " 52  author.profile_image_url               21120 non-null  object \n",
      " 53  author.protected                       21120 non-null  bool   \n",
      " 54  author.public_metrics.followers_count  21120 non-null  int64  \n",
      " 55  author.public_metrics.following_count  21120 non-null  int64  \n",
      " 56  author.public_metrics.listed_count     21120 non-null  int64  \n",
      " 57  author.public_metrics.tweet_count      21120 non-null  int64  \n",
      " 58  author.url                             18168 non-null  object \n",
      " 59  author.verified                        21120 non-null  bool   \n",
      " 60  author.withheld.scope                  0 non-null      float64\n",
      " 61  author.withheld.copyright              0 non-null      float64\n",
      " 62  author.withheld.country_codes          3 non-null      object \n",
      " 63  geo.coordinates.coordinates            1 non-null      object \n",
      " 64  geo.coordinates.type                   1 non-null      object \n",
      " 65  geo.country                            684 non-null    object \n",
      " 66  geo.country_code                       684 non-null    object \n",
      " 67  geo.full_name                          684 non-null    object \n",
      " 68  geo.geo.bbox                           684 non-null    object \n",
      " 69  geo.geo.type                           684 non-null    object \n",
      " 70  geo.id                                 684 non-null    object \n",
      " 71  geo.name                               684 non-null    object \n",
      " 72  geo.place_id                           684 non-null    object \n",
      " 73  geo.place_type                         684 non-null    object \n",
      " 74  matching_rules                         0 non-null      float64\n",
      " 75  __twarc.retrieved_at                   21120 non-null  object \n",
      " 76  __twarc.url                            21120 non-null  object \n",
      " 77  __twarc.version                        21120 non-null  object \n",
      " 78  Unnamed: 78                            0 non-null      float64\n",
      "dtypes: bool(4), float64(14), int64(13), object(48)\n",
      "memory usage: 12.2+ MB\n"
     ]
    }
   ],
   "source": [
    "df.info()"
   ]
  },
  {
   "cell_type": "code",
   "execution_count": 9,
   "id": "7c936a20",
   "metadata": {},
   "outputs": [],
   "source": [
    "def determine_type_of_tweet(row):\n",
    "    replied_id = row['referenced_tweets.replied_to.id']\n",
    "    retweet_id = row['referenced_tweets.retweeted.id']\n",
    "    quote_id = row['referenced_tweets.quoted.id']\n",
    "    \n",
    "    if not pd.isna(replied_id):\n",
    "        return 'Reply'\n",
    "    elif not pd.isna(retweet_id):\n",
    "        return 'Retweet'\n",
    "    elif not pd.isna(quote_id):\n",
    "        return 'QRT'\n",
    "    else:\n",
    "        return 'Tweet'\n",
    "    \n",
    "df['tweet_type'] = df.apply(determine_type_of_tweet, axis=1)"
   ]
  },
  {
   "cell_type": "code",
   "execution_count": 11,
   "id": "61a2f867",
   "metadata": {},
   "outputs": [],
   "source": [
    "def drop(df, columns):\n",
    "    for column in columns:\n",
    "        try:\n",
    "            df = df.drop(columns=[column])\n",
    "        except KeyError:\n",
    "            continue\n",
    "    \n",
    "    return df\n",
    "        \n",
    "df = drop(df, ['referenced_tweets.replied_to.id', 'referenced_tweets.retweeted.id',\n",
    "               'referenced_tweets.quoted.id', 'conversation_id', 'edit_history_tweet_ids',\n",
    "               'edit_controls.edits_remaining', 'edit_controls.editable_until', 'edit_controls.is_edit_eligible',\n",
    "               'in_reply_to_user_id', 'retweeted_user_id', 'quoted_user_id', 'source', 'reply_settings',\n",
    "               'withheld.scope', 'withheld.copyright', 'withheld.country_codes', 'entities.annotations',\n",
    "               'context_annotations', 'attachments.media', 'attachments.media_keys',\n",
    "               'attachments.poll.duration_minutes', 'attachments.poll.end_datetime',\n",
    "               'attachments.poll.id', 'attachments.poll.options', 'attachments.poll.voting_status',\n",
    "               'attachments.poll_ids', 'author.id', 'author.created_at', 'author.description',\n",
    "               'author.entities.description.cashtags', 'author.entities.description.hashtags',\n",
    "               'author.entities.description.mentions', 'author.entities.description.urls', 'author.entities.url.urls',\n",
    "               'author.location', 'author.pinned_tweet_id', 'author.profile_image_url', 'author.protected', \n",
    "               'author.public_metrics.followers_count', 'author.public_metrics.following_count',\n",
    "               'author.public_metrics.listed_count', 'author.public_metrics.tweet_count', 'author.url',\n",
    "               'author.verified', 'author.withheld.scope', 'author.withheld.copyright',\n",
    "               'author.withheld.country_codes', 'geo.coordinates.coordinates', 'geo.coordinates.type',\n",
    "               'geo.country', 'geo.country_code', 'geo.full_name', 'geo.geo.bbox', 'geo.geo.type',\n",
    "               'geo.id', 'geo.name', 'geo.place_id', 'geo.place_type', 'matching_rules', '__twarc.retrieved_at',\n",
    "               '__twarc.url', '__twarc.version', 'Unnamed: 78'])\n",
    "\n",
    "df = df.rename(columns={'public_metrics.like_count': 'like_count',\n",
    "                        'public_metrics.quote_count': 'qrt_count',\n",
    "                        'public_metrics.reply_count': 'reply_count',\n",
    "                        'public_metrics.retweet_count': 'retweet_count',\n",
    "                        'entities.cashtags': 'cashtags',\n",
    "                        'entities.hashtags': 'hashtags',\n",
    "                        'entities.mentions': 'mentions',\n",
    "                        'entities.urls': 'urls'})\n",
    "\n",
    "df = df.astype({'tweet_type': 'category',\n",
    "                'created_at': 'datetime64[ns]',\n",
    "                'lang': 'category',\n",
    "                'cashtags': 'object'})\n"
   ]
  },
  {
   "cell_type": "code",
   "execution_count": 12,
   "id": "b9860ed6",
   "metadata": {},
   "outputs": [
    {
     "name": "stdout",
     "output_type": "stream",
     "text": [
      "<class 'pandas.core.frame.DataFrame'>\n",
      "RangeIndex: 21120 entries, 0 to 21119\n",
      "Data columns (total 17 columns):\n",
      " #   Column              Non-Null Count  Dtype         \n",
      "---  ------              --------------  -----         \n",
      " 0   id                  21120 non-null  int64         \n",
      " 1   author_id           21120 non-null  int64         \n",
      " 2   created_at          21120 non-null  datetime64[ns]\n",
      " 3   text                21120 non-null  object        \n",
      " 4   lang                21120 non-null  category      \n",
      " 5   like_count          21120 non-null  int64         \n",
      " 6   qrt_count           21120 non-null  int64         \n",
      " 7   reply_count         21120 non-null  int64         \n",
      " 8   retweet_count       21120 non-null  int64         \n",
      " 9   possibly_sensitive  21120 non-null  bool          \n",
      " 10  cashtags            8 non-null      object        \n",
      " 11  hashtags            2925 non-null   object        \n",
      " 12  mentions            10268 non-null  object        \n",
      " 13  urls                15801 non-null  object        \n",
      " 14  author.username     21120 non-null  object        \n",
      " 15  author.name         21120 non-null  object        \n",
      " 16  tweet_type          21120 non-null  category      \n",
      "dtypes: bool(1), category(2), datetime64[ns](1), int64(6), object(7)\n",
      "memory usage: 2.3+ MB\n"
     ]
    }
   ],
   "source": [
    "df.info()"
   ]
  },
  {
   "cell_type": "code",
   "execution_count": 13,
   "id": "706c0658",
   "metadata": {},
   "outputs": [
    {
     "data": {
      "text/plain": [
       "Index(['id', 'author_id', 'created_at', 'text', 'lang', 'like_count',\n",
       "       'qrt_count', 'reply_count', 'retweet_count', 'possibly_sensitive',\n",
       "       'cashtags', 'hashtags', 'mentions', 'urls', 'author.username',\n",
       "       'author.name', 'tweet_type'],\n",
       "      dtype='object')"
      ]
     },
     "execution_count": 13,
     "metadata": {},
     "output_type": "execute_result"
    }
   ],
   "source": [
    "df.columns"
   ]
  },
  {
   "cell_type": "code",
   "execution_count": null,
   "id": "176aff6e",
   "metadata": {},
   "outputs": [],
   "source": []
  },
  {
   "cell_type": "code",
   "execution_count": null,
   "id": "11656333",
   "metadata": {},
   "outputs": [],
   "source": []
  }
 ],
 "metadata": {
  "kernelspec": {
   "display_name": "Python 3",
   "language": "python",
   "name": "python3"
  },
  "language_info": {
   "codemirror_mode": {
    "name": "ipython",
    "version": 3
   },
   "file_extension": ".py",
   "mimetype": "text/x-python",
   "name": "python",
   "nbconvert_exporter": "python",
   "pygments_lexer": "ipython3",
   "version": "3.9.12"
  }
 },
 "nbformat": 4,
 "nbformat_minor": 5
}
